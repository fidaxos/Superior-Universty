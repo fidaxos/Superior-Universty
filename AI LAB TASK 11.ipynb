{
 "cells": [
  {
   "cell_type": "code",
   "execution_count": 62,
   "id": "9b8ac6e8-e1d9-4fc4-a32e-6b2ef17e9e23",
   "metadata": {},
   "outputs": [],
   "source": [
    "import numpy as np\n",
    "import pandas as pd\n",
    "import pickle\n",
    "from sklearn.model_selection import train_test_split\n",
    "from sklearn.svm import SVC\n",
    "from sklearn.metrics import accuracy_score, classification_report"
   ]
  },
  {
   "cell_type": "markdown",
   "id": "dbbb4431-b957-42f8-b49b-3c2c854cbc55",
   "metadata": {},
   "source": [
    " Data Loading\n",
    " "
   ]
  },
  {
   "cell_type": "code",
   "execution_count": 2,
   "id": "57f3eea6-95cf-4fa7-9445-87a7a527132d",
   "metadata": {},
   "outputs": [
    {
     "name": "stdout",
     "output_type": "stream",
     "text": [
      "      match_id   season  start_date                      venue  innings  ball  \\\n",
      "0      1416472  2023/24  2024-02-17    Gaddafi Stadium, Lahore        1   1.5   \n",
      "1      1416472  2023/24  2024-02-17    Gaddafi Stadium, Lahore        1   1.6   \n",
      "2      1416472  2023/24  2024-02-17    Gaddafi Stadium, Lahore        1   2.1   \n",
      "3      1416472  2023/24  2024-02-17    Gaddafi Stadium, Lahore        1   2.2   \n",
      "4      1416472  2023/24  2024-02-17    Gaddafi Stadium, Lahore        1   2.3   \n",
      "...        ...      ...         ...                        ...      ...   ...   \n",
      "7790   1416505  2023/24  2024-03-18  National Stadium, Karachi        2  19.2   \n",
      "7791   1416505  2023/24  2024-03-18  National Stadium, Karachi        2  19.3   \n",
      "7792   1416505  2023/24  2024-03-18  National Stadium, Karachi        2  19.4   \n",
      "7793   1416505  2023/24  2024-03-18  National Stadium, Karachi        2  19.5   \n",
      "7794   1416505  2023/24  2024-03-18  National Stadium, Karachi        2  19.6   \n",
      "\n",
      "          batting_team      bowling_team           striker       non_striker  \\\n",
      "0     Lahore Qalandars  Islamabad United  Sahibzada Farhan      Fakhar Zaman   \n",
      "1     Lahore Qalandars  Islamabad United  Sahibzada Farhan      Fakhar Zaman   \n",
      "2     Lahore Qalandars  Islamabad United      Fakhar Zaman  Sahibzada Farhan   \n",
      "3     Lahore Qalandars  Islamabad United      Fakhar Zaman  Sahibzada Farhan   \n",
      "4     Lahore Qalandars  Islamabad United  Sahibzada Farhan      Fakhar Zaman   \n",
      "...                ...               ...               ...               ...   \n",
      "7790  Islamabad United    Multan Sultans       Naseem Shah        Imad Wasim   \n",
      "7791  Islamabad United    Multan Sultans       Naseem Shah        Imad Wasim   \n",
      "7792  Islamabad United    Multan Sultans        Imad Wasim       Naseem Shah   \n",
      "7793  Islamabad United    Multan Sultans       Naseem Shah        Imad Wasim   \n",
      "7794  Islamabad United    Multan Sultans       Hunain Shah        Imad Wasim   \n",
      "\n",
      "      ... extras  wides  noballs  byes  legbyes  penalty  wicket_type  \\\n",
      "0     ...      0    NaN      NaN   NaN      NaN      NaN          NaN   \n",
      "1     ...      0    NaN      NaN   NaN      NaN      NaN          NaN   \n",
      "2     ...      5    5.0      NaN   NaN      NaN      NaN          NaN   \n",
      "3     ...      0    NaN      NaN   NaN      NaN      NaN          NaN   \n",
      "4     ...      0    NaN      NaN   NaN      NaN      NaN          NaN   \n",
      "...   ...    ...    ...      ...   ...      ...      ...          ...   \n",
      "7790  ...      0    NaN      NaN   NaN      NaN      NaN          NaN   \n",
      "7791  ...      1    NaN      NaN   NaN      1.0      NaN          NaN   \n",
      "7792  ...      0    NaN      NaN   NaN      NaN      NaN          NaN   \n",
      "7793  ...      0    NaN      NaN   NaN      NaN      NaN       caught   \n",
      "7794  ...      0    NaN      NaN   NaN      NaN      NaN          NaN   \n",
      "\n",
      "      player_dismissed other_wicket_type other_player_dismissed  \n",
      "0                  NaN               NaN                    NaN  \n",
      "1                  NaN               NaN                    NaN  \n",
      "2                  NaN               NaN                    NaN  \n",
      "3                  NaN               NaN                    NaN  \n",
      "4                  NaN               NaN                    NaN  \n",
      "...                ...               ...                    ...  \n",
      "7790               NaN               NaN                    NaN  \n",
      "7791               NaN               NaN                    NaN  \n",
      "7792               NaN               NaN                    NaN  \n",
      "7793       Naseem Shah               NaN                    NaN  \n",
      "7794               NaN               NaN                    NaN  \n",
      "\n",
      "[7795 rows x 22 columns]\n"
     ]
    }
   ],
   "source": [
    "PSL_9 = pd.read_csv(\"PSL_9.csv\")\n",
    "print(PSL_9)"
   ]
  },
  {
   "cell_type": "code",
   "execution_count": 5,
   "id": "bffdf39e-bffe-4521-bbf7-b26e99a88a89",
   "metadata": {},
   "outputs": [
    {
     "data": {
      "text/html": [
       "<div>\n",
       "<style scoped>\n",
       "    .dataframe tbody tr th:only-of-type {\n",
       "        vertical-align: middle;\n",
       "    }\n",
       "\n",
       "    .dataframe tbody tr th {\n",
       "        vertical-align: top;\n",
       "    }\n",
       "\n",
       "    .dataframe thead th {\n",
       "        text-align: right;\n",
       "    }\n",
       "</style>\n",
       "<table border=\"1\" class=\"dataframe\">\n",
       "  <thead>\n",
       "    <tr style=\"text-align: right;\">\n",
       "      <th></th>\n",
       "      <th>match_id</th>\n",
       "      <th>season</th>\n",
       "      <th>start_date</th>\n",
       "      <th>venue</th>\n",
       "      <th>innings</th>\n",
       "      <th>ball</th>\n",
       "      <th>batting_team</th>\n",
       "      <th>bowling_team</th>\n",
       "      <th>striker</th>\n",
       "      <th>non_striker</th>\n",
       "      <th>...</th>\n",
       "      <th>extras</th>\n",
       "      <th>wides</th>\n",
       "      <th>noballs</th>\n",
       "      <th>byes</th>\n",
       "      <th>legbyes</th>\n",
       "      <th>penalty</th>\n",
       "      <th>wicket_type</th>\n",
       "      <th>player_dismissed</th>\n",
       "      <th>other_wicket_type</th>\n",
       "      <th>other_player_dismissed</th>\n",
       "    </tr>\n",
       "  </thead>\n",
       "  <tbody>\n",
       "    <tr>\n",
       "      <th>0</th>\n",
       "      <td>1416472</td>\n",
       "      <td>2023/24</td>\n",
       "      <td>2024-02-17</td>\n",
       "      <td>Gaddafi Stadium, Lahore</td>\n",
       "      <td>1</td>\n",
       "      <td>1.5</td>\n",
       "      <td>Lahore Qalandars</td>\n",
       "      <td>Islamabad United</td>\n",
       "      <td>Sahibzada Farhan</td>\n",
       "      <td>Fakhar Zaman</td>\n",
       "      <td>...</td>\n",
       "      <td>0</td>\n",
       "      <td>NaN</td>\n",
       "      <td>NaN</td>\n",
       "      <td>NaN</td>\n",
       "      <td>NaN</td>\n",
       "      <td>NaN</td>\n",
       "      <td>NaN</td>\n",
       "      <td>NaN</td>\n",
       "      <td>NaN</td>\n",
       "      <td>NaN</td>\n",
       "    </tr>\n",
       "    <tr>\n",
       "      <th>1</th>\n",
       "      <td>1416472</td>\n",
       "      <td>2023/24</td>\n",
       "      <td>2024-02-17</td>\n",
       "      <td>Gaddafi Stadium, Lahore</td>\n",
       "      <td>1</td>\n",
       "      <td>1.6</td>\n",
       "      <td>Lahore Qalandars</td>\n",
       "      <td>Islamabad United</td>\n",
       "      <td>Sahibzada Farhan</td>\n",
       "      <td>Fakhar Zaman</td>\n",
       "      <td>...</td>\n",
       "      <td>0</td>\n",
       "      <td>NaN</td>\n",
       "      <td>NaN</td>\n",
       "      <td>NaN</td>\n",
       "      <td>NaN</td>\n",
       "      <td>NaN</td>\n",
       "      <td>NaN</td>\n",
       "      <td>NaN</td>\n",
       "      <td>NaN</td>\n",
       "      <td>NaN</td>\n",
       "    </tr>\n",
       "  </tbody>\n",
       "</table>\n",
       "<p>2 rows × 22 columns</p>\n",
       "</div>"
      ],
      "text/plain": [
       "   match_id   season  start_date                    venue  innings  ball  \\\n",
       "0   1416472  2023/24  2024-02-17  Gaddafi Stadium, Lahore        1   1.5   \n",
       "1   1416472  2023/24  2024-02-17  Gaddafi Stadium, Lahore        1   1.6   \n",
       "\n",
       "       batting_team      bowling_team           striker   non_striker  ...  \\\n",
       "0  Lahore Qalandars  Islamabad United  Sahibzada Farhan  Fakhar Zaman  ...   \n",
       "1  Lahore Qalandars  Islamabad United  Sahibzada Farhan  Fakhar Zaman  ...   \n",
       "\n",
       "  extras  wides  noballs  byes  legbyes  penalty  wicket_type  \\\n",
       "0      0    NaN      NaN   NaN      NaN      NaN          NaN   \n",
       "1      0    NaN      NaN   NaN      NaN      NaN          NaN   \n",
       "\n",
       "   player_dismissed other_wicket_type other_player_dismissed  \n",
       "0               NaN               NaN                    NaN  \n",
       "1               NaN               NaN                    NaN  \n",
       "\n",
       "[2 rows x 22 columns]"
      ]
     },
     "execution_count": 5,
     "metadata": {},
     "output_type": "execute_result"
    }
   ],
   "source": [
    "PSL_9.head(2)"
   ]
  },
  {
   "cell_type": "markdown",
   "id": "ce9deaff-1799-4d54-9003-255997cb3583",
   "metadata": {},
   "source": [
    "Data Exploration"
   ]
  },
  {
   "cell_type": "code",
   "execution_count": 8,
   "id": "dce94a55-f83c-419d-a39c-69335395dfd0",
   "metadata": {},
   "outputs": [
    {
     "data": {
      "text/plain": [
       "(7795, 22)"
      ]
     },
     "execution_count": 8,
     "metadata": {},
     "output_type": "execute_result"
    }
   ],
   "source": [
    "PSL_9.shape"
   ]
  },
  {
   "cell_type": "code",
   "execution_count": 12,
   "id": "6aa1cbac-c8de-4630-8686-fa82a39a8291",
   "metadata": {},
   "outputs": [
    {
     "data": {
      "text/plain": [
       "match_id                    int64\n",
       "season                     object\n",
       "start_date                 object\n",
       "venue                      object\n",
       "innings                     int64\n",
       "ball                      float64\n",
       "batting_team               object\n",
       "bowling_team               object\n",
       "striker                    object\n",
       "non_striker                object\n",
       "bowler                     object\n",
       "runs_off_bat                int64\n",
       "extras                      int64\n",
       "wides                     float64\n",
       "noballs                   float64\n",
       "byes                      float64\n",
       "legbyes                   float64\n",
       "penalty                   float64\n",
       "wicket_type                object\n",
       "player_dismissed           object\n",
       "other_wicket_type         float64\n",
       "other_player_dismissed    float64\n",
       "dtype: object"
      ]
     },
     "execution_count": 12,
     "metadata": {},
     "output_type": "execute_result"
    }
   ],
   "source": [
    "PSL_9.dtypes"
   ]
  },
  {
   "cell_type": "code",
   "execution_count": 14,
   "id": "d79ffdc6-1b80-4b60-8467-438a24f4dd7f",
   "metadata": {},
   "outputs": [
    {
     "data": {
      "text/html": [
       "<div>\n",
       "<style scoped>\n",
       "    .dataframe tbody tr th:only-of-type {\n",
       "        vertical-align: middle;\n",
       "    }\n",
       "\n",
       "    .dataframe tbody tr th {\n",
       "        vertical-align: top;\n",
       "    }\n",
       "\n",
       "    .dataframe thead th {\n",
       "        text-align: right;\n",
       "    }\n",
       "</style>\n",
       "<table border=\"1\" class=\"dataframe\">\n",
       "  <thead>\n",
       "    <tr style=\"text-align: right;\">\n",
       "      <th></th>\n",
       "      <th>match_id</th>\n",
       "      <th>innings</th>\n",
       "      <th>ball</th>\n",
       "      <th>runs_off_bat</th>\n",
       "      <th>extras</th>\n",
       "      <th>wides</th>\n",
       "      <th>noballs</th>\n",
       "      <th>byes</th>\n",
       "      <th>legbyes</th>\n",
       "      <th>penalty</th>\n",
       "      <th>other_wicket_type</th>\n",
       "      <th>other_player_dismissed</th>\n",
       "    </tr>\n",
       "  </thead>\n",
       "  <tbody>\n",
       "    <tr>\n",
       "      <th>count</th>\n",
       "      <td>7.795000e+03</td>\n",
       "      <td>7795.000000</td>\n",
       "      <td>7795.000000</td>\n",
       "      <td>7795.000000</td>\n",
       "      <td>7795.000000</td>\n",
       "      <td>288.000000</td>\n",
       "      <td>23.0</td>\n",
       "      <td>16.000000</td>\n",
       "      <td>136.000000</td>\n",
       "      <td>1.0</td>\n",
       "      <td>0.0</td>\n",
       "      <td>0.0</td>\n",
       "    </tr>\n",
       "    <tr>\n",
       "      <th>mean</th>\n",
       "      <td>1.416488e+06</td>\n",
       "      <td>1.489416</td>\n",
       "      <td>9.695548</td>\n",
       "      <td>1.322001</td>\n",
       "      <td>0.075690</td>\n",
       "      <td>1.229167</td>\n",
       "      <td>1.0</td>\n",
       "      <td>2.250000</td>\n",
       "      <td>1.264706</td>\n",
       "      <td>5.0</td>\n",
       "      <td>NaN</td>\n",
       "      <td>NaN</td>\n",
       "    </tr>\n",
       "    <tr>\n",
       "      <th>std</th>\n",
       "      <td>1.011414e+01</td>\n",
       "      <td>0.499920</td>\n",
       "      <td>5.694842</td>\n",
       "      <td>1.650024</td>\n",
       "      <td>0.367276</td>\n",
       "      <td>0.828236</td>\n",
       "      <td>0.0</td>\n",
       "      <td>1.437591</td>\n",
       "      <td>0.800327</td>\n",
       "      <td>NaN</td>\n",
       "      <td>NaN</td>\n",
       "      <td>NaN</td>\n",
       "    </tr>\n",
       "    <tr>\n",
       "      <th>min</th>\n",
       "      <td>1.416472e+06</td>\n",
       "      <td>1.000000</td>\n",
       "      <td>0.100000</td>\n",
       "      <td>0.000000</td>\n",
       "      <td>0.000000</td>\n",
       "      <td>1.000000</td>\n",
       "      <td>1.0</td>\n",
       "      <td>1.000000</td>\n",
       "      <td>1.000000</td>\n",
       "      <td>5.0</td>\n",
       "      <td>NaN</td>\n",
       "      <td>NaN</td>\n",
       "    </tr>\n",
       "    <tr>\n",
       "      <th>25%</th>\n",
       "      <td>1.416479e+06</td>\n",
       "      <td>1.000000</td>\n",
       "      <td>4.600000</td>\n",
       "      <td>0.000000</td>\n",
       "      <td>0.000000</td>\n",
       "      <td>1.000000</td>\n",
       "      <td>1.0</td>\n",
       "      <td>1.000000</td>\n",
       "      <td>1.000000</td>\n",
       "      <td>5.0</td>\n",
       "      <td>NaN</td>\n",
       "      <td>NaN</td>\n",
       "    </tr>\n",
       "    <tr>\n",
       "      <th>50%</th>\n",
       "      <td>1.416487e+06</td>\n",
       "      <td>1.000000</td>\n",
       "      <td>9.600000</td>\n",
       "      <td>1.000000</td>\n",
       "      <td>0.000000</td>\n",
       "      <td>1.000000</td>\n",
       "      <td>1.0</td>\n",
       "      <td>1.500000</td>\n",
       "      <td>1.000000</td>\n",
       "      <td>5.0</td>\n",
       "      <td>NaN</td>\n",
       "      <td>NaN</td>\n",
       "    </tr>\n",
       "    <tr>\n",
       "      <th>75%</th>\n",
       "      <td>1.416497e+06</td>\n",
       "      <td>2.000000</td>\n",
       "      <td>14.500000</td>\n",
       "      <td>1.000000</td>\n",
       "      <td>0.000000</td>\n",
       "      <td>1.000000</td>\n",
       "      <td>1.0</td>\n",
       "      <td>4.000000</td>\n",
       "      <td>1.000000</td>\n",
       "      <td>5.0</td>\n",
       "      <td>NaN</td>\n",
       "      <td>NaN</td>\n",
       "    </tr>\n",
       "    <tr>\n",
       "      <th>max</th>\n",
       "      <td>1.416505e+06</td>\n",
       "      <td>2.000000</td>\n",
       "      <td>19.900000</td>\n",
       "      <td>6.000000</td>\n",
       "      <td>5.000000</td>\n",
       "      <td>5.000000</td>\n",
       "      <td>1.0</td>\n",
       "      <td>4.000000</td>\n",
       "      <td>4.000000</td>\n",
       "      <td>5.0</td>\n",
       "      <td>NaN</td>\n",
       "      <td>NaN</td>\n",
       "    </tr>\n",
       "  </tbody>\n",
       "</table>\n",
       "</div>"
      ],
      "text/plain": [
       "           match_id      innings         ball  runs_off_bat       extras  \\\n",
       "count  7.795000e+03  7795.000000  7795.000000   7795.000000  7795.000000   \n",
       "mean   1.416488e+06     1.489416     9.695548      1.322001     0.075690   \n",
       "std    1.011414e+01     0.499920     5.694842      1.650024     0.367276   \n",
       "min    1.416472e+06     1.000000     0.100000      0.000000     0.000000   \n",
       "25%    1.416479e+06     1.000000     4.600000      0.000000     0.000000   \n",
       "50%    1.416487e+06     1.000000     9.600000      1.000000     0.000000   \n",
       "75%    1.416497e+06     2.000000    14.500000      1.000000     0.000000   \n",
       "max    1.416505e+06     2.000000    19.900000      6.000000     5.000000   \n",
       "\n",
       "            wides  noballs       byes     legbyes  penalty  other_wicket_type  \\\n",
       "count  288.000000     23.0  16.000000  136.000000      1.0                0.0   \n",
       "mean     1.229167      1.0   2.250000    1.264706      5.0                NaN   \n",
       "std      0.828236      0.0   1.437591    0.800327      NaN                NaN   \n",
       "min      1.000000      1.0   1.000000    1.000000      5.0                NaN   \n",
       "25%      1.000000      1.0   1.000000    1.000000      5.0                NaN   \n",
       "50%      1.000000      1.0   1.500000    1.000000      5.0                NaN   \n",
       "75%      1.000000      1.0   4.000000    1.000000      5.0                NaN   \n",
       "max      5.000000      1.0   4.000000    4.000000      5.0                NaN   \n",
       "\n",
       "       other_player_dismissed  \n",
       "count                     0.0  \n",
       "mean                      NaN  \n",
       "std                       NaN  \n",
       "min                       NaN  \n",
       "25%                       NaN  \n",
       "50%                       NaN  \n",
       "75%                       NaN  \n",
       "max                       NaN  "
      ]
     },
     "execution_count": 14,
     "metadata": {},
     "output_type": "execute_result"
    }
   ],
   "source": [
    "PSL_9.describe()"
   ]
  },
  {
   "cell_type": "code",
   "execution_count": 15,
   "id": "72b854ce-f7f8-4317-84ae-904bdd023caf",
   "metadata": {},
   "outputs": [
    {
     "data": {
      "text/plain": [
       "match_id                     0\n",
       "season                       0\n",
       "start_date                   0\n",
       "venue                        0\n",
       "innings                      0\n",
       "ball                         0\n",
       "batting_team                 0\n",
       "bowling_team                 0\n",
       "striker                      0\n",
       "non_striker                  0\n",
       "bowler                       0\n",
       "runs_off_bat                 0\n",
       "extras                       0\n",
       "wides                     7507\n",
       "noballs                   7772\n",
       "byes                      7779\n",
       "legbyes                   7659\n",
       "penalty                   7794\n",
       "wicket_type               7392\n",
       "player_dismissed          7392\n",
       "other_wicket_type         7795\n",
       "other_player_dismissed    7795\n",
       "dtype: int64"
      ]
     },
     "execution_count": 15,
     "metadata": {},
     "output_type": "execute_result"
    }
   ],
   "source": [
    "PSL_9.isnull().sum()"
   ]
  },
  {
   "cell_type": "code",
   "execution_count": 20,
   "id": "dab6fba0-bc89-4adc-b3ce-a561b9029391",
   "metadata": {},
   "outputs": [
    {
     "name": "stdout",
     "output_type": "stream",
     "text": [
      "<class 'pandas.core.frame.DataFrame'>\n",
      "RangeIndex: 7795 entries, 0 to 7794\n",
      "Data columns (total 22 columns):\n",
      " #   Column                  Non-Null Count  Dtype  \n",
      "---  ------                  --------------  -----  \n",
      " 0   match_id                7795 non-null   int64  \n",
      " 1   season                  7795 non-null   object \n",
      " 2   start_date              7795 non-null   object \n",
      " 3   venue                   7795 non-null   object \n",
      " 4   innings                 7795 non-null   int64  \n",
      " 5   ball                    7795 non-null   float64\n",
      " 6   batting_team            7795 non-null   object \n",
      " 7   bowling_team            7795 non-null   object \n",
      " 8   striker                 7795 non-null   object \n",
      " 9   non_striker             7795 non-null   object \n",
      " 10  bowler                  7795 non-null   object \n",
      " 11  runs_off_bat            7795 non-null   int64  \n",
      " 12  extras                  7795 non-null   int64  \n",
      " 13  wides                   288 non-null    float64\n",
      " 14  noballs                 23 non-null     float64\n",
      " 15  byes                    16 non-null     float64\n",
      " 16  legbyes                 136 non-null    float64\n",
      " 17  penalty                 1 non-null      float64\n",
      " 18  wicket_type             403 non-null    object \n",
      " 19  player_dismissed        403 non-null    object \n",
      " 20  other_wicket_type       0 non-null      float64\n",
      " 21  other_player_dismissed  0 non-null      float64\n",
      "dtypes: float64(8), int64(4), object(10)\n",
      "memory usage: 1.3+ MB\n"
     ]
    }
   ],
   "source": [
    "PSL_9.info()"
   ]
  },
  {
   "cell_type": "code",
   "execution_count": 21,
   "id": "7676c779-f7ef-4215-979d-46e01013159c",
   "metadata": {},
   "outputs": [
    {
     "data": {
      "text/plain": [
       "0"
      ]
     },
     "execution_count": 21,
     "metadata": {},
     "output_type": "execute_result"
    }
   ],
   "source": [
    "PSL_9.duplicated().sum()"
   ]
  },
  {
   "cell_type": "code",
   "execution_count": 23,
   "id": "658519dc-1eb7-4583-ad55-288dc960aff9",
   "metadata": {},
   "outputs": [
    {
     "data": {
      "text/plain": [
       "<bound method DataFrame.corr of       match_id   season  start_date                      venue  innings  ball  \\\n",
       "0      1416472  2023/24  2024-02-17    Gaddafi Stadium, Lahore        1   1.5   \n",
       "1      1416472  2023/24  2024-02-17    Gaddafi Stadium, Lahore        1   1.6   \n",
       "2      1416472  2023/24  2024-02-17    Gaddafi Stadium, Lahore        1   2.1   \n",
       "3      1416472  2023/24  2024-02-17    Gaddafi Stadium, Lahore        1   2.2   \n",
       "4      1416472  2023/24  2024-02-17    Gaddafi Stadium, Lahore        1   2.3   \n",
       "...        ...      ...         ...                        ...      ...   ...   \n",
       "7790   1416505  2023/24  2024-03-18  National Stadium, Karachi        2  19.2   \n",
       "7791   1416505  2023/24  2024-03-18  National Stadium, Karachi        2  19.3   \n",
       "7792   1416505  2023/24  2024-03-18  National Stadium, Karachi        2  19.4   \n",
       "7793   1416505  2023/24  2024-03-18  National Stadium, Karachi        2  19.5   \n",
       "7794   1416505  2023/24  2024-03-18  National Stadium, Karachi        2  19.6   \n",
       "\n",
       "          batting_team      bowling_team           striker       non_striker  \\\n",
       "0     Lahore Qalandars  Islamabad United  Sahibzada Farhan      Fakhar Zaman   \n",
       "1     Lahore Qalandars  Islamabad United  Sahibzada Farhan      Fakhar Zaman   \n",
       "2     Lahore Qalandars  Islamabad United      Fakhar Zaman  Sahibzada Farhan   \n",
       "3     Lahore Qalandars  Islamabad United      Fakhar Zaman  Sahibzada Farhan   \n",
       "4     Lahore Qalandars  Islamabad United  Sahibzada Farhan      Fakhar Zaman   \n",
       "...                ...               ...               ...               ...   \n",
       "7790  Islamabad United    Multan Sultans       Naseem Shah        Imad Wasim   \n",
       "7791  Islamabad United    Multan Sultans       Naseem Shah        Imad Wasim   \n",
       "7792  Islamabad United    Multan Sultans        Imad Wasim       Naseem Shah   \n",
       "7793  Islamabad United    Multan Sultans       Naseem Shah        Imad Wasim   \n",
       "7794  Islamabad United    Multan Sultans       Hunain Shah        Imad Wasim   \n",
       "\n",
       "      ... extras  wides  noballs  byes  legbyes  penalty  wicket_type  \\\n",
       "0     ...      0    NaN      NaN   NaN      NaN      NaN          NaN   \n",
       "1     ...      0    NaN      NaN   NaN      NaN      NaN          NaN   \n",
       "2     ...      5    5.0      NaN   NaN      NaN      NaN          NaN   \n",
       "3     ...      0    NaN      NaN   NaN      NaN      NaN          NaN   \n",
       "4     ...      0    NaN      NaN   NaN      NaN      NaN          NaN   \n",
       "...   ...    ...    ...      ...   ...      ...      ...          ...   \n",
       "7790  ...      0    NaN      NaN   NaN      NaN      NaN          NaN   \n",
       "7791  ...      1    NaN      NaN   NaN      1.0      NaN          NaN   \n",
       "7792  ...      0    NaN      NaN   NaN      NaN      NaN          NaN   \n",
       "7793  ...      0    NaN      NaN   NaN      NaN      NaN       caught   \n",
       "7794  ...      0    NaN      NaN   NaN      NaN      NaN          NaN   \n",
       "\n",
       "      player_dismissed other_wicket_type other_player_dismissed  \n",
       "0                  NaN               NaN                    NaN  \n",
       "1                  NaN               NaN                    NaN  \n",
       "2                  NaN               NaN                    NaN  \n",
       "3                  NaN               NaN                    NaN  \n",
       "4                  NaN               NaN                    NaN  \n",
       "...                ...               ...                    ...  \n",
       "7790               NaN               NaN                    NaN  \n",
       "7791               NaN               NaN                    NaN  \n",
       "7792               NaN               NaN                    NaN  \n",
       "7793       Naseem Shah               NaN                    NaN  \n",
       "7794               NaN               NaN                    NaN  \n",
       "\n",
       "[7795 rows x 22 columns]>"
      ]
     },
     "execution_count": 23,
     "metadata": {},
     "output_type": "execute_result"
    }
   ],
   "source": [
    "PSL_9.corr"
   ]
  },
  {
   "cell_type": "markdown",
   "id": "32bda720-657f-4f88-bfe8-d50172879af3",
   "metadata": {},
   "source": [
    "Data Pre-Process\n"
   ]
  },
  {
   "cell_type": "code",
   "execution_count": 26,
   "id": "f5c9a3fe-82dd-4be2-bc5d-c8d45df34b61",
   "metadata": {},
   "outputs": [
    {
     "data": {
      "text/html": [
       "<div>\n",
       "<style scoped>\n",
       "    .dataframe tbody tr th:only-of-type {\n",
       "        vertical-align: middle;\n",
       "    }\n",
       "\n",
       "    .dataframe tbody tr th {\n",
       "        vertical-align: top;\n",
       "    }\n",
       "\n",
       "    .dataframe thead th {\n",
       "        text-align: right;\n",
       "    }\n",
       "</style>\n",
       "<table border=\"1\" class=\"dataframe\">\n",
       "  <thead>\n",
       "    <tr style=\"text-align: right;\">\n",
       "      <th></th>\n",
       "      <th>match_id</th>\n",
       "      <th>season</th>\n",
       "      <th>start_date</th>\n",
       "      <th>venue</th>\n",
       "      <th>innings</th>\n",
       "      <th>ball</th>\n",
       "      <th>batting_team</th>\n",
       "      <th>bowling_team</th>\n",
       "      <th>striker</th>\n",
       "      <th>non_striker</th>\n",
       "      <th>...</th>\n",
       "      <th>extras</th>\n",
       "      <th>wides</th>\n",
       "      <th>noballs</th>\n",
       "      <th>byes</th>\n",
       "      <th>legbyes</th>\n",
       "      <th>penalty</th>\n",
       "      <th>wicket_type</th>\n",
       "      <th>player_dismissed</th>\n",
       "      <th>other_wicket_type</th>\n",
       "      <th>other_player_dismissed</th>\n",
       "    </tr>\n",
       "  </thead>\n",
       "  <tbody>\n",
       "  </tbody>\n",
       "</table>\n",
       "<p>0 rows × 22 columns</p>\n",
       "</div>"
      ],
      "text/plain": [
       "Empty DataFrame\n",
       "Columns: [match_id, season, start_date, venue, innings, ball, batting_team, bowling_team, striker, non_striker, bowler, runs_off_bat, extras, wides, noballs, byes, legbyes, penalty, wicket_type, player_dismissed, other_wicket_type, other_player_dismissed]\n",
       "Index: []\n",
       "\n",
       "[0 rows x 22 columns]"
      ]
     },
     "execution_count": 26,
     "metadata": {},
     "output_type": "execute_result"
    }
   ],
   "source": [
    "PSL_9.dropna()"
   ]
  },
  {
   "cell_type": "code",
   "execution_count": 30,
   "id": "8d1772a3-39ed-42f3-b7b2-703ed338ad9e",
   "metadata": {},
   "outputs": [
    {
     "name": "stdout",
     "output_type": "stream",
     "text": [
      "      match_id  innings  ball  runs_off_bat  extras  wides  noballs  byes  \\\n",
      "0      1416472        1   1.5             2       0    NaN      NaN   NaN   \n",
      "1      1416472        1   1.6             4       0    NaN      NaN   NaN   \n",
      "2      1416472        1   2.1             0       5    5.0      NaN   NaN   \n",
      "3      1416472        1   2.2             1       0    NaN      NaN   NaN   \n",
      "4      1416472        1   2.3             4       0    NaN      NaN   NaN   \n",
      "...        ...      ...   ...           ...     ...    ...      ...   ...   \n",
      "7790   1416505        2  19.2             4       0    NaN      NaN   NaN   \n",
      "7791   1416505        2  19.3             0       1    NaN      NaN   NaN   \n",
      "7792   1416505        2  19.4             1       0    NaN      NaN   NaN   \n",
      "7793   1416505        2  19.5             0       0    NaN      NaN   NaN   \n",
      "7794   1416505        2  19.6             4       0    NaN      NaN   NaN   \n",
      "\n",
      "      legbyes  penalty  ...  player_dismissed_T Kohler-Cadmore  \\\n",
      "0         NaN      NaN  ...                              False   \n",
      "1         NaN      NaN  ...                              False   \n",
      "2         NaN      NaN  ...                              False   \n",
      "3         NaN      NaN  ...                              False   \n",
      "4         NaN      NaN  ...                              False   \n",
      "...       ...      ...  ...                                ...   \n",
      "7790      NaN      NaN  ...                              False   \n",
      "7791      1.0      NaN  ...                              False   \n",
      "7792      NaN      NaN  ...                              False   \n",
      "7793      NaN      NaN  ...                              False   \n",
      "7794      NaN      NaN  ...                              False   \n",
      "\n",
      "      player_dismissed_TL Seifert  player_dismissed_Tayyab Tahir  \\\n",
      "0                           False                          False   \n",
      "1                           False                          False   \n",
      "2                           False                          False   \n",
      "3                           False                          False   \n",
      "4                           False                          False   \n",
      "...                           ...                            ...   \n",
      "7790                        False                          False   \n",
      "7791                        False                          False   \n",
      "7792                        False                          False   \n",
      "7793                        False                          False   \n",
      "7794                        False                          False   \n",
      "\n",
      "      player_dismissed_Ubaid Shah  player_dismissed_Usama Mir  \\\n",
      "0                           False                       False   \n",
      "1                           False                       False   \n",
      "2                           False                       False   \n",
      "3                           False                       False   \n",
      "4                           False                       False   \n",
      "...                           ...                         ...   \n",
      "7790                        False                       False   \n",
      "7791                        False                       False   \n",
      "7792                        False                       False   \n",
      "7793                        False                       False   \n",
      "7794                        False                       False   \n",
      "\n",
      "      player_dismissed_Usman Khan  player_dismissed_Usman Tariq  \\\n",
      "0                           False                         False   \n",
      "1                           False                         False   \n",
      "2                           False                         False   \n",
      "3                           False                         False   \n",
      "4                           False                         False   \n",
      "...                           ...                           ...   \n",
      "7790                        False                         False   \n",
      "7791                        False                         False   \n",
      "7792                        False                         False   \n",
      "7793                        False                         False   \n",
      "7794                        False                         False   \n",
      "\n",
      "      player_dismissed_Waqar Salamkheil  player_dismissed_Yasir Khan  \\\n",
      "0                                 False                        False   \n",
      "1                                 False                        False   \n",
      "2                                 False                        False   \n",
      "3                                 False                        False   \n",
      "4                                 False                        False   \n",
      "...                                 ...                          ...   \n",
      "7790                              False                        False   \n",
      "7791                              False                        False   \n",
      "7792                              False                        False   \n",
      "7793                              False                        False   \n",
      "7794                              False                        False   \n",
      "\n",
      "      player_dismissed_Zaman Khan  \n",
      "0                           False  \n",
      "1                           False  \n",
      "2                           False  \n",
      "3                           False  \n",
      "4                           False  \n",
      "...                           ...  \n",
      "7790                        False  \n",
      "7791                        False  \n",
      "7792                        False  \n",
      "7793                        False  \n",
      "7794                        False  \n",
      "\n",
      "[7795 rows x 400 columns]\n"
     ]
    }
   ],
   "source": [
    "PSL_9 = pd.get_dummies(PSL_9, drop_first=True)\n",
    "print(PSL_9)"
   ]
  },
  {
   "cell_type": "code",
   "execution_count": 39,
   "id": "0f22119f-eaf5-4860-b343-e81f94b41129",
   "metadata": {},
   "outputs": [],
   "source": [
    "X = PSL_9.drop(columns='match_id', axis=1)\n",
    "Y= PSL_9['match_id']\n"
   ]
  },
  {
   "cell_type": "code",
   "execution_count": 40,
   "id": "8f16b7dc-b005-4ddf-a0a4-67161a8c4518",
   "metadata": {},
   "outputs": [
    {
     "name": "stdout",
     "output_type": "stream",
     "text": [
      "      innings  ball  runs_off_bat  extras  wides  noballs  byes  legbyes  \\\n",
      "0           1   1.5             2       0    NaN      NaN   NaN      NaN   \n",
      "1           1   1.6             4       0    NaN      NaN   NaN      NaN   \n",
      "2           1   2.1             0       5    5.0      NaN   NaN      NaN   \n",
      "3           1   2.2             1       0    NaN      NaN   NaN      NaN   \n",
      "4           1   2.3             4       0    NaN      NaN   NaN      NaN   \n",
      "...       ...   ...           ...     ...    ...      ...   ...      ...   \n",
      "7790        2  19.2             4       0    NaN      NaN   NaN      NaN   \n",
      "7791        2  19.3             0       1    NaN      NaN   NaN      1.0   \n",
      "7792        2  19.4             1       0    NaN      NaN   NaN      NaN   \n",
      "7793        2  19.5             0       0    NaN      NaN   NaN      NaN   \n",
      "7794        2  19.6             4       0    NaN      NaN   NaN      NaN   \n",
      "\n",
      "      penalty  other_wicket_type  ...  player_dismissed_T Kohler-Cadmore  \\\n",
      "0         NaN                NaN  ...                              False   \n",
      "1         NaN                NaN  ...                              False   \n",
      "2         NaN                NaN  ...                              False   \n",
      "3         NaN                NaN  ...                              False   \n",
      "4         NaN                NaN  ...                              False   \n",
      "...       ...                ...  ...                                ...   \n",
      "7790      NaN                NaN  ...                              False   \n",
      "7791      NaN                NaN  ...                              False   \n",
      "7792      NaN                NaN  ...                              False   \n",
      "7793      NaN                NaN  ...                              False   \n",
      "7794      NaN                NaN  ...                              False   \n",
      "\n",
      "      player_dismissed_TL Seifert  player_dismissed_Tayyab Tahir  \\\n",
      "0                           False                          False   \n",
      "1                           False                          False   \n",
      "2                           False                          False   \n",
      "3                           False                          False   \n",
      "4                           False                          False   \n",
      "...                           ...                            ...   \n",
      "7790                        False                          False   \n",
      "7791                        False                          False   \n",
      "7792                        False                          False   \n",
      "7793                        False                          False   \n",
      "7794                        False                          False   \n",
      "\n",
      "      player_dismissed_Ubaid Shah  player_dismissed_Usama Mir  \\\n",
      "0                           False                       False   \n",
      "1                           False                       False   \n",
      "2                           False                       False   \n",
      "3                           False                       False   \n",
      "4                           False                       False   \n",
      "...                           ...                         ...   \n",
      "7790                        False                       False   \n",
      "7791                        False                       False   \n",
      "7792                        False                       False   \n",
      "7793                        False                       False   \n",
      "7794                        False                       False   \n",
      "\n",
      "      player_dismissed_Usman Khan  player_dismissed_Usman Tariq  \\\n",
      "0                           False                         False   \n",
      "1                           False                         False   \n",
      "2                           False                         False   \n",
      "3                           False                         False   \n",
      "4                           False                         False   \n",
      "...                           ...                           ...   \n",
      "7790                        False                         False   \n",
      "7791                        False                         False   \n",
      "7792                        False                         False   \n",
      "7793                        False                         False   \n",
      "7794                        False                         False   \n",
      "\n",
      "      player_dismissed_Waqar Salamkheil  player_dismissed_Yasir Khan  \\\n",
      "0                                 False                        False   \n",
      "1                                 False                        False   \n",
      "2                                 False                        False   \n",
      "3                                 False                        False   \n",
      "4                                 False                        False   \n",
      "...                                 ...                          ...   \n",
      "7790                              False                        False   \n",
      "7791                              False                        False   \n",
      "7792                              False                        False   \n",
      "7793                              False                        False   \n",
      "7794                              False                        False   \n",
      "\n",
      "      player_dismissed_Zaman Khan  \n",
      "0                           False  \n",
      "1                           False  \n",
      "2                           False  \n",
      "3                           False  \n",
      "4                           False  \n",
      "...                           ...  \n",
      "7790                        False  \n",
      "7791                        False  \n",
      "7792                        False  \n",
      "7793                        False  \n",
      "7794                        False  \n",
      "\n",
      "[7795 rows x 399 columns]\n"
     ]
    }
   ],
   "source": [
    "print(X)"
   ]
  },
  {
   "cell_type": "code",
   "execution_count": 41,
   "id": "cdfc0950-8e7f-4d3a-aef0-26589b77e2e6",
   "metadata": {},
   "outputs": [
    {
     "name": "stdout",
     "output_type": "stream",
     "text": [
      "0       1416472\n",
      "1       1416472\n",
      "2       1416472\n",
      "3       1416472\n",
      "4       1416472\n",
      "         ...   \n",
      "7790    1416505\n",
      "7791    1416505\n",
      "7792    1416505\n",
      "7793    1416505\n",
      "7794    1416505\n",
      "Name: match_id, Length: 7795, dtype: int64\n"
     ]
    }
   ],
   "source": [
    "print(Y)"
   ]
  },
  {
   "cell_type": "markdown",
   "id": "c27b23fd-e2cb-44bd-91bc-e16de01ea32a",
   "metadata": {},
   "source": [
    "Train-Test Split"
   ]
  },
  {
   "cell_type": "code",
   "execution_count": 46,
   "id": "ee480fe4-3d4a-4062-95d8-ac8b5f3abf7a",
   "metadata": {},
   "outputs": [],
   "source": [
    "X_train, X_test, Y_train, Y_test = train_test_split(X, Y, test_size=0.2, random_state=2)"
   ]
  },
  {
   "cell_type": "code",
   "execution_count": 47,
   "id": "c69acbed-1f0b-44c7-bc43-794786986430",
   "metadata": {},
   "outputs": [
    {
     "name": "stdout",
     "output_type": "stream",
     "text": [
      "(7795, 399) (6236, 399) (1559, 399)\n"
     ]
    }
   ],
   "source": [
    "print(X.shape, X_train.shape, X_test.shape)"
   ]
  },
  {
   "cell_type": "code",
   "execution_count": 55,
   "id": "9df3f25b-a323-4033-896f-cf73bb35785f",
   "metadata": {},
   "outputs": [],
   "source": [
    "train_x = X_train.iloc()[: 1:]\n",
    "test_x  = X_test.iloc()[: 1:]\n",
    "\n",
    "train_y = Y_train.iloc()[: 0]\n",
    "test_y  = Y_test.iloc()[: 0]"
   ]
  },
  {
   "cell_type": "code",
   "execution_count": 56,
   "id": "924ce1dc-4ae1-44cd-8e5a-d86bfbc02af5",
   "metadata": {},
   "outputs": [
    {
     "data": {
      "text/html": [
       "<div>\n",
       "<style scoped>\n",
       "    .dataframe tbody tr th:only-of-type {\n",
       "        vertical-align: middle;\n",
       "    }\n",
       "\n",
       "    .dataframe tbody tr th {\n",
       "        vertical-align: top;\n",
       "    }\n",
       "\n",
       "    .dataframe thead th {\n",
       "        text-align: right;\n",
       "    }\n",
       "</style>\n",
       "<table border=\"1\" class=\"dataframe\">\n",
       "  <thead>\n",
       "    <tr style=\"text-align: right;\">\n",
       "      <th></th>\n",
       "      <th>innings</th>\n",
       "      <th>ball</th>\n",
       "      <th>runs_off_bat</th>\n",
       "      <th>extras</th>\n",
       "      <th>wides</th>\n",
       "      <th>noballs</th>\n",
       "      <th>byes</th>\n",
       "      <th>legbyes</th>\n",
       "      <th>penalty</th>\n",
       "      <th>other_wicket_type</th>\n",
       "      <th>...</th>\n",
       "      <th>player_dismissed_T Kohler-Cadmore</th>\n",
       "      <th>player_dismissed_TL Seifert</th>\n",
       "      <th>player_dismissed_Tayyab Tahir</th>\n",
       "      <th>player_dismissed_Ubaid Shah</th>\n",
       "      <th>player_dismissed_Usama Mir</th>\n",
       "      <th>player_dismissed_Usman Khan</th>\n",
       "      <th>player_dismissed_Usman Tariq</th>\n",
       "      <th>player_dismissed_Waqar Salamkheil</th>\n",
       "      <th>player_dismissed_Yasir Khan</th>\n",
       "      <th>player_dismissed_Zaman Khan</th>\n",
       "    </tr>\n",
       "  </thead>\n",
       "  <tbody>\n",
       "    <tr>\n",
       "      <th>121</th>\n",
       "      <td>2</td>\n",
       "      <td>1.1</td>\n",
       "      <td>4</td>\n",
       "      <td>0</td>\n",
       "      <td>NaN</td>\n",
       "      <td>NaN</td>\n",
       "      <td>NaN</td>\n",
       "      <td>NaN</td>\n",
       "      <td>NaN</td>\n",
       "      <td>NaN</td>\n",
       "      <td>...</td>\n",
       "      <td>False</td>\n",
       "      <td>False</td>\n",
       "      <td>False</td>\n",
       "      <td>False</td>\n",
       "      <td>False</td>\n",
       "      <td>False</td>\n",
       "      <td>False</td>\n",
       "      <td>False</td>\n",
       "      <td>False</td>\n",
       "      <td>False</td>\n",
       "    </tr>\n",
       "  </tbody>\n",
       "</table>\n",
       "<p>1 rows × 399 columns</p>\n",
       "</div>"
      ],
      "text/plain": [
       "     innings  ball  runs_off_bat  extras  wides  noballs  byes  legbyes  \\\n",
       "121        2   1.1             4       0    NaN      NaN   NaN      NaN   \n",
       "\n",
       "     penalty  other_wicket_type  ...  player_dismissed_T Kohler-Cadmore  \\\n",
       "121      NaN                NaN  ...                              False   \n",
       "\n",
       "     player_dismissed_TL Seifert  player_dismissed_Tayyab Tahir  \\\n",
       "121                        False                          False   \n",
       "\n",
       "     player_dismissed_Ubaid Shah  player_dismissed_Usama Mir  \\\n",
       "121                        False                       False   \n",
       "\n",
       "     player_dismissed_Usman Khan  player_dismissed_Usman Tariq  \\\n",
       "121                        False                         False   \n",
       "\n",
       "     player_dismissed_Waqar Salamkheil  player_dismissed_Yasir Khan  \\\n",
       "121                              False                        False   \n",
       "\n",
       "     player_dismissed_Zaman Khan  \n",
       "121                        False  \n",
       "\n",
       "[1 rows x 399 columns]"
      ]
     },
     "execution_count": 56,
     "metadata": {},
     "output_type": "execute_result"
    }
   ],
   "source": [
    "train_x.head(2)"
   ]
  },
  {
   "cell_type": "code",
   "execution_count": 57,
   "id": "f389aa44-2908-4901-bab2-07b433ae4d3d",
   "metadata": {},
   "outputs": [
    {
     "data": {
      "text/plain": [
       "Series([], Name: match_id, dtype: int64)"
      ]
     },
     "execution_count": 57,
     "metadata": {},
     "output_type": "execute_result"
    }
   ],
   "source": [
    "train_y.head(2)"
   ]
  },
  {
   "cell_type": "code",
   "execution_count": 58,
   "id": "bfaa3e89-255b-42c8-a873-b83a81b98716",
   "metadata": {},
   "outputs": [
    {
     "data": {
      "text/html": [
       "<div>\n",
       "<style scoped>\n",
       "    .dataframe tbody tr th:only-of-type {\n",
       "        vertical-align: middle;\n",
       "    }\n",
       "\n",
       "    .dataframe tbody tr th {\n",
       "        vertical-align: top;\n",
       "    }\n",
       "\n",
       "    .dataframe thead th {\n",
       "        text-align: right;\n",
       "    }\n",
       "</style>\n",
       "<table border=\"1\" class=\"dataframe\">\n",
       "  <thead>\n",
       "    <tr style=\"text-align: right;\">\n",
       "      <th></th>\n",
       "      <th>innings</th>\n",
       "      <th>ball</th>\n",
       "      <th>runs_off_bat</th>\n",
       "      <th>extras</th>\n",
       "      <th>wides</th>\n",
       "      <th>noballs</th>\n",
       "      <th>byes</th>\n",
       "      <th>legbyes</th>\n",
       "      <th>penalty</th>\n",
       "      <th>other_wicket_type</th>\n",
       "      <th>...</th>\n",
       "      <th>player_dismissed_T Kohler-Cadmore</th>\n",
       "      <th>player_dismissed_TL Seifert</th>\n",
       "      <th>player_dismissed_Tayyab Tahir</th>\n",
       "      <th>player_dismissed_Ubaid Shah</th>\n",
       "      <th>player_dismissed_Usama Mir</th>\n",
       "      <th>player_dismissed_Usman Khan</th>\n",
       "      <th>player_dismissed_Usman Tariq</th>\n",
       "      <th>player_dismissed_Waqar Salamkheil</th>\n",
       "      <th>player_dismissed_Yasir Khan</th>\n",
       "      <th>player_dismissed_Zaman Khan</th>\n",
       "    </tr>\n",
       "  </thead>\n",
       "  <tbody>\n",
       "    <tr>\n",
       "      <th>4546</th>\n",
       "      <td>2</td>\n",
       "      <td>0.1</td>\n",
       "      <td>6</td>\n",
       "      <td>0</td>\n",
       "      <td>NaN</td>\n",
       "      <td>NaN</td>\n",
       "      <td>NaN</td>\n",
       "      <td>NaN</td>\n",
       "      <td>NaN</td>\n",
       "      <td>NaN</td>\n",
       "      <td>...</td>\n",
       "      <td>False</td>\n",
       "      <td>False</td>\n",
       "      <td>False</td>\n",
       "      <td>False</td>\n",
       "      <td>False</td>\n",
       "      <td>False</td>\n",
       "      <td>False</td>\n",
       "      <td>False</td>\n",
       "      <td>False</td>\n",
       "      <td>False</td>\n",
       "    </tr>\n",
       "  </tbody>\n",
       "</table>\n",
       "<p>1 rows × 399 columns</p>\n",
       "</div>"
      ],
      "text/plain": [
       "      innings  ball  runs_off_bat  extras  wides  noballs  byes  legbyes  \\\n",
       "4546        2   0.1             6       0    NaN      NaN   NaN      NaN   \n",
       "\n",
       "      penalty  other_wicket_type  ...  player_dismissed_T Kohler-Cadmore  \\\n",
       "4546      NaN                NaN  ...                              False   \n",
       "\n",
       "      player_dismissed_TL Seifert  player_dismissed_Tayyab Tahir  \\\n",
       "4546                        False                          False   \n",
       "\n",
       "      player_dismissed_Ubaid Shah  player_dismissed_Usama Mir  \\\n",
       "4546                        False                       False   \n",
       "\n",
       "      player_dismissed_Usman Khan  player_dismissed_Usman Tariq  \\\n",
       "4546                        False                         False   \n",
       "\n",
       "      player_dismissed_Waqar Salamkheil  player_dismissed_Yasir Khan  \\\n",
       "4546                              False                        False   \n",
       "\n",
       "      player_dismissed_Zaman Khan  \n",
       "4546                        False  \n",
       "\n",
       "[1 rows x 399 columns]"
      ]
     },
     "execution_count": 58,
     "metadata": {},
     "output_type": "execute_result"
    }
   ],
   "source": [
    "test_x.head(2)"
   ]
  },
  {
   "cell_type": "code",
   "execution_count": 59,
   "id": "b051729b-f947-42aa-b54c-e7c09009dd8d",
   "metadata": {},
   "outputs": [
    {
     "data": {
      "text/plain": [
       "Series([], Name: match_id, dtype: int64)"
      ]
     },
     "execution_count": 59,
     "metadata": {},
     "output_type": "execute_result"
    }
   ],
   "source": [
    "test_y.head(2)"
   ]
  },
  {
   "cell_type": "markdown",
   "id": "54f209ea-4f54-4e48-8864-f78101daf4ac",
   "metadata": {},
   "source": [
    " Applying SVM Classifier"
   ]
  },
  {
   "cell_type": "code",
   "execution_count": 75,
   "id": "09110f68-3d68-4b72-bbad-acff79c116ed",
   "metadata": {},
   "outputs": [
    {
     "ename": "ValueError",
     "evalue": "Input X contains NaN.\nSVC does not accept missing values encoded as NaN natively. For supervised learning, you might want to consider sklearn.ensemble.HistGradientBoostingClassifier and Regressor which accept missing values encoded as NaNs natively. Alternatively, it is possible to preprocess the data, for instance by using an imputer transformer in a pipeline or drop samples with missing values. See https://scikit-learn.org/stable/modules/impute.html You can find a list of all estimators that handle NaN values at the following page: https://scikit-learn.org/stable/modules/impute.html#estimators-that-handle-nan-values",
     "output_type": "error",
     "traceback": [
      "\u001b[1;31m---------------------------------------------------------------------------\u001b[0m",
      "\u001b[1;31mValueError\u001b[0m                                Traceback (most recent call last)",
      "Cell \u001b[1;32mIn[75], line 2\u001b[0m\n\u001b[0;32m      1\u001b[0m svm_model \u001b[38;5;241m=\u001b[39m SVC(kernel\u001b[38;5;241m=\u001b[39m\u001b[38;5;124m'\u001b[39m\u001b[38;5;124mlinear\u001b[39m\u001b[38;5;124m'\u001b[39m, random_state\u001b[38;5;241m=\u001b[39m\u001b[38;5;241m42\u001b[39m)\n\u001b[1;32m----> 2\u001b[0m \u001b[43msvm_model\u001b[49m\u001b[38;5;241;43m.\u001b[39;49m\u001b[43mfit\u001b[49m\u001b[43m(\u001b[49m\u001b[43mX_train\u001b[49m\u001b[43m,\u001b[49m\u001b[43m \u001b[49m\u001b[43mY_train\u001b[49m\u001b[43m)\u001b[49m\n",
      "File \u001b[1;32mC:\\ProgramData\\anaconda3\\Lib\\site-packages\\sklearn\\base.py:1474\u001b[0m, in \u001b[0;36m_fit_context.<locals>.decorator.<locals>.wrapper\u001b[1;34m(estimator, *args, **kwargs)\u001b[0m\n\u001b[0;32m   1467\u001b[0m     estimator\u001b[38;5;241m.\u001b[39m_validate_params()\n\u001b[0;32m   1469\u001b[0m \u001b[38;5;28;01mwith\u001b[39;00m config_context(\n\u001b[0;32m   1470\u001b[0m     skip_parameter_validation\u001b[38;5;241m=\u001b[39m(\n\u001b[0;32m   1471\u001b[0m         prefer_skip_nested_validation \u001b[38;5;129;01mor\u001b[39;00m global_skip_validation\n\u001b[0;32m   1472\u001b[0m     )\n\u001b[0;32m   1473\u001b[0m ):\n\u001b[1;32m-> 1474\u001b[0m     \u001b[38;5;28;01mreturn\u001b[39;00m \u001b[43mfit_method\u001b[49m\u001b[43m(\u001b[49m\u001b[43mestimator\u001b[49m\u001b[43m,\u001b[49m\u001b[43m \u001b[49m\u001b[38;5;241;43m*\u001b[39;49m\u001b[43margs\u001b[49m\u001b[43m,\u001b[49m\u001b[43m \u001b[49m\u001b[38;5;241;43m*\u001b[39;49m\u001b[38;5;241;43m*\u001b[39;49m\u001b[43mkwargs\u001b[49m\u001b[43m)\u001b[49m\n",
      "File \u001b[1;32mC:\\ProgramData\\anaconda3\\Lib\\site-packages\\sklearn\\svm\\_base.py:190\u001b[0m, in \u001b[0;36mBaseLibSVM.fit\u001b[1;34m(self, X, y, sample_weight)\u001b[0m\n\u001b[0;32m    188\u001b[0m     check_consistent_length(X, y)\n\u001b[0;32m    189\u001b[0m \u001b[38;5;28;01melse\u001b[39;00m:\n\u001b[1;32m--> 190\u001b[0m     X, y \u001b[38;5;241m=\u001b[39m \u001b[38;5;28;43mself\u001b[39;49m\u001b[38;5;241;43m.\u001b[39;49m\u001b[43m_validate_data\u001b[49m\u001b[43m(\u001b[49m\n\u001b[0;32m    191\u001b[0m \u001b[43m        \u001b[49m\u001b[43mX\u001b[49m\u001b[43m,\u001b[49m\n\u001b[0;32m    192\u001b[0m \u001b[43m        \u001b[49m\u001b[43my\u001b[49m\u001b[43m,\u001b[49m\n\u001b[0;32m    193\u001b[0m \u001b[43m        \u001b[49m\u001b[43mdtype\u001b[49m\u001b[38;5;241;43m=\u001b[39;49m\u001b[43mnp\u001b[49m\u001b[38;5;241;43m.\u001b[39;49m\u001b[43mfloat64\u001b[49m\u001b[43m,\u001b[49m\n\u001b[0;32m    194\u001b[0m \u001b[43m        \u001b[49m\u001b[43morder\u001b[49m\u001b[38;5;241;43m=\u001b[39;49m\u001b[38;5;124;43m\"\u001b[39;49m\u001b[38;5;124;43mC\u001b[39;49m\u001b[38;5;124;43m\"\u001b[39;49m\u001b[43m,\u001b[49m\n\u001b[0;32m    195\u001b[0m \u001b[43m        \u001b[49m\u001b[43maccept_sparse\u001b[49m\u001b[38;5;241;43m=\u001b[39;49m\u001b[38;5;124;43m\"\u001b[39;49m\u001b[38;5;124;43mcsr\u001b[39;49m\u001b[38;5;124;43m\"\u001b[39;49m\u001b[43m,\u001b[49m\n\u001b[0;32m    196\u001b[0m \u001b[43m        \u001b[49m\u001b[43maccept_large_sparse\u001b[49m\u001b[38;5;241;43m=\u001b[39;49m\u001b[38;5;28;43;01mFalse\u001b[39;49;00m\u001b[43m,\u001b[49m\n\u001b[0;32m    197\u001b[0m \u001b[43m    \u001b[49m\u001b[43m)\u001b[49m\n\u001b[0;32m    199\u001b[0m y \u001b[38;5;241m=\u001b[39m \u001b[38;5;28mself\u001b[39m\u001b[38;5;241m.\u001b[39m_validate_targets(y)\n\u001b[0;32m    201\u001b[0m sample_weight \u001b[38;5;241m=\u001b[39m np\u001b[38;5;241m.\u001b[39masarray(\n\u001b[0;32m    202\u001b[0m     [] \u001b[38;5;28;01mif\u001b[39;00m sample_weight \u001b[38;5;129;01mis\u001b[39;00m \u001b[38;5;28;01mNone\u001b[39;00m \u001b[38;5;28;01melse\u001b[39;00m sample_weight, dtype\u001b[38;5;241m=\u001b[39mnp\u001b[38;5;241m.\u001b[39mfloat64\n\u001b[0;32m    203\u001b[0m )\n",
      "File \u001b[1;32mC:\\ProgramData\\anaconda3\\Lib\\site-packages\\sklearn\\base.py:650\u001b[0m, in \u001b[0;36mBaseEstimator._validate_data\u001b[1;34m(self, X, y, reset, validate_separately, cast_to_ndarray, **check_params)\u001b[0m\n\u001b[0;32m    648\u001b[0m         y \u001b[38;5;241m=\u001b[39m check_array(y, input_name\u001b[38;5;241m=\u001b[39m\u001b[38;5;124m\"\u001b[39m\u001b[38;5;124my\u001b[39m\u001b[38;5;124m\"\u001b[39m, \u001b[38;5;241m*\u001b[39m\u001b[38;5;241m*\u001b[39mcheck_y_params)\n\u001b[0;32m    649\u001b[0m     \u001b[38;5;28;01melse\u001b[39;00m:\n\u001b[1;32m--> 650\u001b[0m         X, y \u001b[38;5;241m=\u001b[39m \u001b[43mcheck_X_y\u001b[49m\u001b[43m(\u001b[49m\u001b[43mX\u001b[49m\u001b[43m,\u001b[49m\u001b[43m \u001b[49m\u001b[43my\u001b[49m\u001b[43m,\u001b[49m\u001b[43m \u001b[49m\u001b[38;5;241;43m*\u001b[39;49m\u001b[38;5;241;43m*\u001b[39;49m\u001b[43mcheck_params\u001b[49m\u001b[43m)\u001b[49m\n\u001b[0;32m    651\u001b[0m     out \u001b[38;5;241m=\u001b[39m X, y\n\u001b[0;32m    653\u001b[0m \u001b[38;5;28;01mif\u001b[39;00m \u001b[38;5;129;01mnot\u001b[39;00m no_val_X \u001b[38;5;129;01mand\u001b[39;00m check_params\u001b[38;5;241m.\u001b[39mget(\u001b[38;5;124m\"\u001b[39m\u001b[38;5;124mensure_2d\u001b[39m\u001b[38;5;124m\"\u001b[39m, \u001b[38;5;28;01mTrue\u001b[39;00m):\n",
      "File \u001b[1;32mC:\\ProgramData\\anaconda3\\Lib\\site-packages\\sklearn\\utils\\validation.py:1263\u001b[0m, in \u001b[0;36mcheck_X_y\u001b[1;34m(X, y, accept_sparse, accept_large_sparse, dtype, order, copy, force_all_finite, ensure_2d, allow_nd, multi_output, ensure_min_samples, ensure_min_features, y_numeric, estimator)\u001b[0m\n\u001b[0;32m   1258\u001b[0m         estimator_name \u001b[38;5;241m=\u001b[39m _check_estimator_name(estimator)\n\u001b[0;32m   1259\u001b[0m     \u001b[38;5;28;01mraise\u001b[39;00m \u001b[38;5;167;01mValueError\u001b[39;00m(\n\u001b[0;32m   1260\u001b[0m         \u001b[38;5;124mf\u001b[39m\u001b[38;5;124m\"\u001b[39m\u001b[38;5;132;01m{\u001b[39;00mestimator_name\u001b[38;5;132;01m}\u001b[39;00m\u001b[38;5;124m requires y to be passed, but the target y is None\u001b[39m\u001b[38;5;124m\"\u001b[39m\n\u001b[0;32m   1261\u001b[0m     )\n\u001b[1;32m-> 1263\u001b[0m X \u001b[38;5;241m=\u001b[39m \u001b[43mcheck_array\u001b[49m\u001b[43m(\u001b[49m\n\u001b[0;32m   1264\u001b[0m \u001b[43m    \u001b[49m\u001b[43mX\u001b[49m\u001b[43m,\u001b[49m\n\u001b[0;32m   1265\u001b[0m \u001b[43m    \u001b[49m\u001b[43maccept_sparse\u001b[49m\u001b[38;5;241;43m=\u001b[39;49m\u001b[43maccept_sparse\u001b[49m\u001b[43m,\u001b[49m\n\u001b[0;32m   1266\u001b[0m \u001b[43m    \u001b[49m\u001b[43maccept_large_sparse\u001b[49m\u001b[38;5;241;43m=\u001b[39;49m\u001b[43maccept_large_sparse\u001b[49m\u001b[43m,\u001b[49m\n\u001b[0;32m   1267\u001b[0m \u001b[43m    \u001b[49m\u001b[43mdtype\u001b[49m\u001b[38;5;241;43m=\u001b[39;49m\u001b[43mdtype\u001b[49m\u001b[43m,\u001b[49m\n\u001b[0;32m   1268\u001b[0m \u001b[43m    \u001b[49m\u001b[43morder\u001b[49m\u001b[38;5;241;43m=\u001b[39;49m\u001b[43morder\u001b[49m\u001b[43m,\u001b[49m\n\u001b[0;32m   1269\u001b[0m \u001b[43m    \u001b[49m\u001b[43mcopy\u001b[49m\u001b[38;5;241;43m=\u001b[39;49m\u001b[43mcopy\u001b[49m\u001b[43m,\u001b[49m\n\u001b[0;32m   1270\u001b[0m \u001b[43m    \u001b[49m\u001b[43mforce_all_finite\u001b[49m\u001b[38;5;241;43m=\u001b[39;49m\u001b[43mforce_all_finite\u001b[49m\u001b[43m,\u001b[49m\n\u001b[0;32m   1271\u001b[0m \u001b[43m    \u001b[49m\u001b[43mensure_2d\u001b[49m\u001b[38;5;241;43m=\u001b[39;49m\u001b[43mensure_2d\u001b[49m\u001b[43m,\u001b[49m\n\u001b[0;32m   1272\u001b[0m \u001b[43m    \u001b[49m\u001b[43mallow_nd\u001b[49m\u001b[38;5;241;43m=\u001b[39;49m\u001b[43mallow_nd\u001b[49m\u001b[43m,\u001b[49m\n\u001b[0;32m   1273\u001b[0m \u001b[43m    \u001b[49m\u001b[43mensure_min_samples\u001b[49m\u001b[38;5;241;43m=\u001b[39;49m\u001b[43mensure_min_samples\u001b[49m\u001b[43m,\u001b[49m\n\u001b[0;32m   1274\u001b[0m \u001b[43m    \u001b[49m\u001b[43mensure_min_features\u001b[49m\u001b[38;5;241;43m=\u001b[39;49m\u001b[43mensure_min_features\u001b[49m\u001b[43m,\u001b[49m\n\u001b[0;32m   1275\u001b[0m \u001b[43m    \u001b[49m\u001b[43mestimator\u001b[49m\u001b[38;5;241;43m=\u001b[39;49m\u001b[43mestimator\u001b[49m\u001b[43m,\u001b[49m\n\u001b[0;32m   1276\u001b[0m \u001b[43m    \u001b[49m\u001b[43minput_name\u001b[49m\u001b[38;5;241;43m=\u001b[39;49m\u001b[38;5;124;43m\"\u001b[39;49m\u001b[38;5;124;43mX\u001b[39;49m\u001b[38;5;124;43m\"\u001b[39;49m\u001b[43m,\u001b[49m\n\u001b[0;32m   1277\u001b[0m \u001b[43m\u001b[49m\u001b[43m)\u001b[49m\n\u001b[0;32m   1279\u001b[0m y \u001b[38;5;241m=\u001b[39m _check_y(y, multi_output\u001b[38;5;241m=\u001b[39mmulti_output, y_numeric\u001b[38;5;241m=\u001b[39my_numeric, estimator\u001b[38;5;241m=\u001b[39mestimator)\n\u001b[0;32m   1281\u001b[0m check_consistent_length(X, y)\n",
      "File \u001b[1;32mC:\\ProgramData\\anaconda3\\Lib\\site-packages\\sklearn\\utils\\validation.py:1049\u001b[0m, in \u001b[0;36mcheck_array\u001b[1;34m(array, accept_sparse, accept_large_sparse, dtype, order, copy, force_all_finite, ensure_2d, allow_nd, ensure_min_samples, ensure_min_features, estimator, input_name)\u001b[0m\n\u001b[0;32m   1043\u001b[0m     \u001b[38;5;28;01mraise\u001b[39;00m \u001b[38;5;167;01mValueError\u001b[39;00m(\n\u001b[0;32m   1044\u001b[0m         \u001b[38;5;124m\"\u001b[39m\u001b[38;5;124mFound array with dim \u001b[39m\u001b[38;5;132;01m%d\u001b[39;00m\u001b[38;5;124m. \u001b[39m\u001b[38;5;132;01m%s\u001b[39;00m\u001b[38;5;124m expected <= 2.\u001b[39m\u001b[38;5;124m\"\u001b[39m\n\u001b[0;32m   1045\u001b[0m         \u001b[38;5;241m%\u001b[39m (array\u001b[38;5;241m.\u001b[39mndim, estimator_name)\n\u001b[0;32m   1046\u001b[0m     )\n\u001b[0;32m   1048\u001b[0m \u001b[38;5;28;01mif\u001b[39;00m force_all_finite:\n\u001b[1;32m-> 1049\u001b[0m     \u001b[43m_assert_all_finite\u001b[49m\u001b[43m(\u001b[49m\n\u001b[0;32m   1050\u001b[0m \u001b[43m        \u001b[49m\u001b[43marray\u001b[49m\u001b[43m,\u001b[49m\n\u001b[0;32m   1051\u001b[0m \u001b[43m        \u001b[49m\u001b[43minput_name\u001b[49m\u001b[38;5;241;43m=\u001b[39;49m\u001b[43minput_name\u001b[49m\u001b[43m,\u001b[49m\n\u001b[0;32m   1052\u001b[0m \u001b[43m        \u001b[49m\u001b[43mestimator_name\u001b[49m\u001b[38;5;241;43m=\u001b[39;49m\u001b[43mestimator_name\u001b[49m\u001b[43m,\u001b[49m\n\u001b[0;32m   1053\u001b[0m \u001b[43m        \u001b[49m\u001b[43mallow_nan\u001b[49m\u001b[38;5;241;43m=\u001b[39;49m\u001b[43mforce_all_finite\u001b[49m\u001b[43m \u001b[49m\u001b[38;5;241;43m==\u001b[39;49m\u001b[43m \u001b[49m\u001b[38;5;124;43m\"\u001b[39;49m\u001b[38;5;124;43mallow-nan\u001b[39;49m\u001b[38;5;124;43m\"\u001b[39;49m\u001b[43m,\u001b[49m\n\u001b[0;32m   1054\u001b[0m \u001b[43m    \u001b[49m\u001b[43m)\u001b[49m\n\u001b[0;32m   1056\u001b[0m \u001b[38;5;28;01mif\u001b[39;00m copy:\n\u001b[0;32m   1057\u001b[0m     \u001b[38;5;28;01mif\u001b[39;00m _is_numpy_namespace(xp):\n\u001b[0;32m   1058\u001b[0m         \u001b[38;5;66;03m# only make a copy if `array` and `array_orig` may share memory`\u001b[39;00m\n",
      "File \u001b[1;32mC:\\ProgramData\\anaconda3\\Lib\\site-packages\\sklearn\\utils\\validation.py:126\u001b[0m, in \u001b[0;36m_assert_all_finite\u001b[1;34m(X, allow_nan, msg_dtype, estimator_name, input_name)\u001b[0m\n\u001b[0;32m    123\u001b[0m \u001b[38;5;28;01mif\u001b[39;00m first_pass_isfinite:\n\u001b[0;32m    124\u001b[0m     \u001b[38;5;28;01mreturn\u001b[39;00m\n\u001b[1;32m--> 126\u001b[0m \u001b[43m_assert_all_finite_element_wise\u001b[49m\u001b[43m(\u001b[49m\n\u001b[0;32m    127\u001b[0m \u001b[43m    \u001b[49m\u001b[43mX\u001b[49m\u001b[43m,\u001b[49m\n\u001b[0;32m    128\u001b[0m \u001b[43m    \u001b[49m\u001b[43mxp\u001b[49m\u001b[38;5;241;43m=\u001b[39;49m\u001b[43mxp\u001b[49m\u001b[43m,\u001b[49m\n\u001b[0;32m    129\u001b[0m \u001b[43m    \u001b[49m\u001b[43mallow_nan\u001b[49m\u001b[38;5;241;43m=\u001b[39;49m\u001b[43mallow_nan\u001b[49m\u001b[43m,\u001b[49m\n\u001b[0;32m    130\u001b[0m \u001b[43m    \u001b[49m\u001b[43mmsg_dtype\u001b[49m\u001b[38;5;241;43m=\u001b[39;49m\u001b[43mmsg_dtype\u001b[49m\u001b[43m,\u001b[49m\n\u001b[0;32m    131\u001b[0m \u001b[43m    \u001b[49m\u001b[43mestimator_name\u001b[49m\u001b[38;5;241;43m=\u001b[39;49m\u001b[43mestimator_name\u001b[49m\u001b[43m,\u001b[49m\n\u001b[0;32m    132\u001b[0m \u001b[43m    \u001b[49m\u001b[43minput_name\u001b[49m\u001b[38;5;241;43m=\u001b[39;49m\u001b[43minput_name\u001b[49m\u001b[43m,\u001b[49m\n\u001b[0;32m    133\u001b[0m \u001b[43m\u001b[49m\u001b[43m)\u001b[49m\n",
      "File \u001b[1;32mC:\\ProgramData\\anaconda3\\Lib\\site-packages\\sklearn\\utils\\validation.py:175\u001b[0m, in \u001b[0;36m_assert_all_finite_element_wise\u001b[1;34m(X, xp, allow_nan, msg_dtype, estimator_name, input_name)\u001b[0m\n\u001b[0;32m    158\u001b[0m \u001b[38;5;28;01mif\u001b[39;00m estimator_name \u001b[38;5;129;01mand\u001b[39;00m input_name \u001b[38;5;241m==\u001b[39m \u001b[38;5;124m\"\u001b[39m\u001b[38;5;124mX\u001b[39m\u001b[38;5;124m\"\u001b[39m \u001b[38;5;129;01mand\u001b[39;00m has_nan_error:\n\u001b[0;32m    159\u001b[0m     \u001b[38;5;66;03m# Improve the error message on how to handle missing values in\u001b[39;00m\n\u001b[0;32m    160\u001b[0m     \u001b[38;5;66;03m# scikit-learn.\u001b[39;00m\n\u001b[0;32m    161\u001b[0m     msg_err \u001b[38;5;241m+\u001b[39m\u001b[38;5;241m=\u001b[39m (\n\u001b[0;32m    162\u001b[0m         \u001b[38;5;124mf\u001b[39m\u001b[38;5;124m\"\u001b[39m\u001b[38;5;130;01m\\n\u001b[39;00m\u001b[38;5;132;01m{\u001b[39;00mestimator_name\u001b[38;5;132;01m}\u001b[39;00m\u001b[38;5;124m does not accept missing values\u001b[39m\u001b[38;5;124m\"\u001b[39m\n\u001b[0;32m    163\u001b[0m         \u001b[38;5;124m\"\u001b[39m\u001b[38;5;124m encoded as NaN natively. For supervised learning, you might want\u001b[39m\u001b[38;5;124m\"\u001b[39m\n\u001b[1;32m   (...)\u001b[0m\n\u001b[0;32m    173\u001b[0m         \u001b[38;5;124m\"\u001b[39m\u001b[38;5;124m#estimators-that-handle-nan-values\u001b[39m\u001b[38;5;124m\"\u001b[39m\n\u001b[0;32m    174\u001b[0m     )\n\u001b[1;32m--> 175\u001b[0m \u001b[38;5;28;01mraise\u001b[39;00m \u001b[38;5;167;01mValueError\u001b[39;00m(msg_err)\n",
      "\u001b[1;31mValueError\u001b[0m: Input X contains NaN.\nSVC does not accept missing values encoded as NaN natively. For supervised learning, you might want to consider sklearn.ensemble.HistGradientBoostingClassifier and Regressor which accept missing values encoded as NaNs natively. Alternatively, it is possible to preprocess the data, for instance by using an imputer transformer in a pipeline or drop samples with missing values. See https://scikit-learn.org/stable/modules/impute.html You can find a list of all estimators that handle NaN values at the following page: https://scikit-learn.org/stable/modules/impute.html#estimators-that-handle-nan-values"
     ]
    }
   ],
   "source": [
    "svm_model = SVC(kernel='linear', random_state=42)\n",
    "svm_model.fit(X_train, Y_train)"
   ]
  },
  {
   "cell_type": "code",
   "execution_count": 76,
   "id": "8a97fd31-99fe-4a8d-888a-9bdbbb6d641c",
   "metadata": {},
   "outputs": [
    {
     "ename": "ValueError",
     "evalue": "Input X contains NaN.\nSVC does not accept missing values encoded as NaN natively. For supervised learning, you might want to consider sklearn.ensemble.HistGradientBoostingClassifier and Regressor which accept missing values encoded as NaNs natively. Alternatively, it is possible to preprocess the data, for instance by using an imputer transformer in a pipeline or drop samples with missing values. See https://scikit-learn.org/stable/modules/impute.html You can find a list of all estimators that handle NaN values at the following page: https://scikit-learn.org/stable/modules/impute.html#estimators-that-handle-nan-values",
     "output_type": "error",
     "traceback": [
      "\u001b[1;31m---------------------------------------------------------------------------\u001b[0m",
      "\u001b[1;31mValueError\u001b[0m                                Traceback (most recent call last)",
      "Cell \u001b[1;32mIn[76], line 1\u001b[0m\n\u001b[1;32m----> 1\u001b[0m y_pred \u001b[38;5;241m=\u001b[39m \u001b[43msvm_model\u001b[49m\u001b[38;5;241;43m.\u001b[39;49m\u001b[43mpredict\u001b[49m\u001b[43m(\u001b[49m\u001b[43mX_test\u001b[49m\u001b[43m)\u001b[49m\n",
      "File \u001b[1;32mC:\\ProgramData\\anaconda3\\Lib\\site-packages\\sklearn\\svm\\_base.py:814\u001b[0m, in \u001b[0;36mBaseSVC.predict\u001b[1;34m(self, X)\u001b[0m\n\u001b[0;32m    812\u001b[0m     y \u001b[38;5;241m=\u001b[39m np\u001b[38;5;241m.\u001b[39margmax(\u001b[38;5;28mself\u001b[39m\u001b[38;5;241m.\u001b[39mdecision_function(X), axis\u001b[38;5;241m=\u001b[39m\u001b[38;5;241m1\u001b[39m)\n\u001b[0;32m    813\u001b[0m \u001b[38;5;28;01melse\u001b[39;00m:\n\u001b[1;32m--> 814\u001b[0m     y \u001b[38;5;241m=\u001b[39m \u001b[38;5;28;43msuper\u001b[39;49m\u001b[43m(\u001b[49m\u001b[43m)\u001b[49m\u001b[38;5;241;43m.\u001b[39;49m\u001b[43mpredict\u001b[49m\u001b[43m(\u001b[49m\u001b[43mX\u001b[49m\u001b[43m)\u001b[49m\n\u001b[0;32m    815\u001b[0m \u001b[38;5;28;01mreturn\u001b[39;00m \u001b[38;5;28mself\u001b[39m\u001b[38;5;241m.\u001b[39mclasses_\u001b[38;5;241m.\u001b[39mtake(np\u001b[38;5;241m.\u001b[39masarray(y, dtype\u001b[38;5;241m=\u001b[39mnp\u001b[38;5;241m.\u001b[39mintp))\n",
      "File \u001b[1;32mC:\\ProgramData\\anaconda3\\Lib\\site-packages\\sklearn\\svm\\_base.py:429\u001b[0m, in \u001b[0;36mBaseLibSVM.predict\u001b[1;34m(self, X)\u001b[0m\n\u001b[0;32m    413\u001b[0m \u001b[38;5;28;01mdef\u001b[39;00m \u001b[38;5;21mpredict\u001b[39m(\u001b[38;5;28mself\u001b[39m, X):\n\u001b[0;32m    414\u001b[0m \u001b[38;5;250m    \u001b[39m\u001b[38;5;124;03m\"\"\"Perform regression on samples in X.\u001b[39;00m\n\u001b[0;32m    415\u001b[0m \n\u001b[0;32m    416\u001b[0m \u001b[38;5;124;03m    For an one-class model, +1 (inlier) or -1 (outlier) is returned.\u001b[39;00m\n\u001b[1;32m   (...)\u001b[0m\n\u001b[0;32m    427\u001b[0m \u001b[38;5;124;03m        The predicted values.\u001b[39;00m\n\u001b[0;32m    428\u001b[0m \u001b[38;5;124;03m    \"\"\"\u001b[39;00m\n\u001b[1;32m--> 429\u001b[0m     X \u001b[38;5;241m=\u001b[39m \u001b[38;5;28;43mself\u001b[39;49m\u001b[38;5;241;43m.\u001b[39;49m\u001b[43m_validate_for_predict\u001b[49m\u001b[43m(\u001b[49m\u001b[43mX\u001b[49m\u001b[43m)\u001b[49m\n\u001b[0;32m    430\u001b[0m     predict \u001b[38;5;241m=\u001b[39m \u001b[38;5;28mself\u001b[39m\u001b[38;5;241m.\u001b[39m_sparse_predict \u001b[38;5;28;01mif\u001b[39;00m \u001b[38;5;28mself\u001b[39m\u001b[38;5;241m.\u001b[39m_sparse \u001b[38;5;28;01melse\u001b[39;00m \u001b[38;5;28mself\u001b[39m\u001b[38;5;241m.\u001b[39m_dense_predict\n\u001b[0;32m    431\u001b[0m     \u001b[38;5;28;01mreturn\u001b[39;00m predict(X)\n",
      "File \u001b[1;32mC:\\ProgramData\\anaconda3\\Lib\\site-packages\\sklearn\\svm\\_base.py:607\u001b[0m, in \u001b[0;36mBaseLibSVM._validate_for_predict\u001b[1;34m(self, X)\u001b[0m\n\u001b[0;32m    604\u001b[0m check_is_fitted(\u001b[38;5;28mself\u001b[39m)\n\u001b[0;32m    606\u001b[0m \u001b[38;5;28;01mif\u001b[39;00m \u001b[38;5;129;01mnot\u001b[39;00m \u001b[38;5;28mcallable\u001b[39m(\u001b[38;5;28mself\u001b[39m\u001b[38;5;241m.\u001b[39mkernel):\n\u001b[1;32m--> 607\u001b[0m     X \u001b[38;5;241m=\u001b[39m \u001b[38;5;28;43mself\u001b[39;49m\u001b[38;5;241;43m.\u001b[39;49m\u001b[43m_validate_data\u001b[49m\u001b[43m(\u001b[49m\n\u001b[0;32m    608\u001b[0m \u001b[43m        \u001b[49m\u001b[43mX\u001b[49m\u001b[43m,\u001b[49m\n\u001b[0;32m    609\u001b[0m \u001b[43m        \u001b[49m\u001b[43maccept_sparse\u001b[49m\u001b[38;5;241;43m=\u001b[39;49m\u001b[38;5;124;43m\"\u001b[39;49m\u001b[38;5;124;43mcsr\u001b[39;49m\u001b[38;5;124;43m\"\u001b[39;49m\u001b[43m,\u001b[49m\n\u001b[0;32m    610\u001b[0m \u001b[43m        \u001b[49m\u001b[43mdtype\u001b[49m\u001b[38;5;241;43m=\u001b[39;49m\u001b[43mnp\u001b[49m\u001b[38;5;241;43m.\u001b[39;49m\u001b[43mfloat64\u001b[49m\u001b[43m,\u001b[49m\n\u001b[0;32m    611\u001b[0m \u001b[43m        \u001b[49m\u001b[43morder\u001b[49m\u001b[38;5;241;43m=\u001b[39;49m\u001b[38;5;124;43m\"\u001b[39;49m\u001b[38;5;124;43mC\u001b[39;49m\u001b[38;5;124;43m\"\u001b[39;49m\u001b[43m,\u001b[49m\n\u001b[0;32m    612\u001b[0m \u001b[43m        \u001b[49m\u001b[43maccept_large_sparse\u001b[49m\u001b[38;5;241;43m=\u001b[39;49m\u001b[38;5;28;43;01mFalse\u001b[39;49;00m\u001b[43m,\u001b[49m\n\u001b[0;32m    613\u001b[0m \u001b[43m        \u001b[49m\u001b[43mreset\u001b[49m\u001b[38;5;241;43m=\u001b[39;49m\u001b[38;5;28;43;01mFalse\u001b[39;49;00m\u001b[43m,\u001b[49m\n\u001b[0;32m    614\u001b[0m \u001b[43m    \u001b[49m\u001b[43m)\u001b[49m\n\u001b[0;32m    616\u001b[0m \u001b[38;5;28;01mif\u001b[39;00m \u001b[38;5;28mself\u001b[39m\u001b[38;5;241m.\u001b[39m_sparse \u001b[38;5;129;01mand\u001b[39;00m \u001b[38;5;129;01mnot\u001b[39;00m sp\u001b[38;5;241m.\u001b[39missparse(X):\n\u001b[0;32m    617\u001b[0m     X \u001b[38;5;241m=\u001b[39m sp\u001b[38;5;241m.\u001b[39mcsr_matrix(X)\n",
      "File \u001b[1;32mC:\\ProgramData\\anaconda3\\Lib\\site-packages\\sklearn\\base.py:633\u001b[0m, in \u001b[0;36mBaseEstimator._validate_data\u001b[1;34m(self, X, y, reset, validate_separately, cast_to_ndarray, **check_params)\u001b[0m\n\u001b[0;32m    631\u001b[0m         out \u001b[38;5;241m=\u001b[39m X, y\n\u001b[0;32m    632\u001b[0m \u001b[38;5;28;01melif\u001b[39;00m \u001b[38;5;129;01mnot\u001b[39;00m no_val_X \u001b[38;5;129;01mand\u001b[39;00m no_val_y:\n\u001b[1;32m--> 633\u001b[0m     out \u001b[38;5;241m=\u001b[39m \u001b[43mcheck_array\u001b[49m\u001b[43m(\u001b[49m\u001b[43mX\u001b[49m\u001b[43m,\u001b[49m\u001b[43m \u001b[49m\u001b[43minput_name\u001b[49m\u001b[38;5;241;43m=\u001b[39;49m\u001b[38;5;124;43m\"\u001b[39;49m\u001b[38;5;124;43mX\u001b[39;49m\u001b[38;5;124;43m\"\u001b[39;49m\u001b[43m,\u001b[49m\u001b[43m \u001b[49m\u001b[38;5;241;43m*\u001b[39;49m\u001b[38;5;241;43m*\u001b[39;49m\u001b[43mcheck_params\u001b[49m\u001b[43m)\u001b[49m\n\u001b[0;32m    634\u001b[0m \u001b[38;5;28;01melif\u001b[39;00m no_val_X \u001b[38;5;129;01mand\u001b[39;00m \u001b[38;5;129;01mnot\u001b[39;00m no_val_y:\n\u001b[0;32m    635\u001b[0m     out \u001b[38;5;241m=\u001b[39m _check_y(y, \u001b[38;5;241m*\u001b[39m\u001b[38;5;241m*\u001b[39mcheck_params)\n",
      "File \u001b[1;32mC:\\ProgramData\\anaconda3\\Lib\\site-packages\\sklearn\\utils\\validation.py:1049\u001b[0m, in \u001b[0;36mcheck_array\u001b[1;34m(array, accept_sparse, accept_large_sparse, dtype, order, copy, force_all_finite, ensure_2d, allow_nd, ensure_min_samples, ensure_min_features, estimator, input_name)\u001b[0m\n\u001b[0;32m   1043\u001b[0m     \u001b[38;5;28;01mraise\u001b[39;00m \u001b[38;5;167;01mValueError\u001b[39;00m(\n\u001b[0;32m   1044\u001b[0m         \u001b[38;5;124m\"\u001b[39m\u001b[38;5;124mFound array with dim \u001b[39m\u001b[38;5;132;01m%d\u001b[39;00m\u001b[38;5;124m. \u001b[39m\u001b[38;5;132;01m%s\u001b[39;00m\u001b[38;5;124m expected <= 2.\u001b[39m\u001b[38;5;124m\"\u001b[39m\n\u001b[0;32m   1045\u001b[0m         \u001b[38;5;241m%\u001b[39m (array\u001b[38;5;241m.\u001b[39mndim, estimator_name)\n\u001b[0;32m   1046\u001b[0m     )\n\u001b[0;32m   1048\u001b[0m \u001b[38;5;28;01mif\u001b[39;00m force_all_finite:\n\u001b[1;32m-> 1049\u001b[0m     \u001b[43m_assert_all_finite\u001b[49m\u001b[43m(\u001b[49m\n\u001b[0;32m   1050\u001b[0m \u001b[43m        \u001b[49m\u001b[43marray\u001b[49m\u001b[43m,\u001b[49m\n\u001b[0;32m   1051\u001b[0m \u001b[43m        \u001b[49m\u001b[43minput_name\u001b[49m\u001b[38;5;241;43m=\u001b[39;49m\u001b[43minput_name\u001b[49m\u001b[43m,\u001b[49m\n\u001b[0;32m   1052\u001b[0m \u001b[43m        \u001b[49m\u001b[43mestimator_name\u001b[49m\u001b[38;5;241;43m=\u001b[39;49m\u001b[43mestimator_name\u001b[49m\u001b[43m,\u001b[49m\n\u001b[0;32m   1053\u001b[0m \u001b[43m        \u001b[49m\u001b[43mallow_nan\u001b[49m\u001b[38;5;241;43m=\u001b[39;49m\u001b[43mforce_all_finite\u001b[49m\u001b[43m \u001b[49m\u001b[38;5;241;43m==\u001b[39;49m\u001b[43m \u001b[49m\u001b[38;5;124;43m\"\u001b[39;49m\u001b[38;5;124;43mallow-nan\u001b[39;49m\u001b[38;5;124;43m\"\u001b[39;49m\u001b[43m,\u001b[49m\n\u001b[0;32m   1054\u001b[0m \u001b[43m    \u001b[49m\u001b[43m)\u001b[49m\n\u001b[0;32m   1056\u001b[0m \u001b[38;5;28;01mif\u001b[39;00m copy:\n\u001b[0;32m   1057\u001b[0m     \u001b[38;5;28;01mif\u001b[39;00m _is_numpy_namespace(xp):\n\u001b[0;32m   1058\u001b[0m         \u001b[38;5;66;03m# only make a copy if `array` and `array_orig` may share memory`\u001b[39;00m\n",
      "File \u001b[1;32mC:\\ProgramData\\anaconda3\\Lib\\site-packages\\sklearn\\utils\\validation.py:126\u001b[0m, in \u001b[0;36m_assert_all_finite\u001b[1;34m(X, allow_nan, msg_dtype, estimator_name, input_name)\u001b[0m\n\u001b[0;32m    123\u001b[0m \u001b[38;5;28;01mif\u001b[39;00m first_pass_isfinite:\n\u001b[0;32m    124\u001b[0m     \u001b[38;5;28;01mreturn\u001b[39;00m\n\u001b[1;32m--> 126\u001b[0m \u001b[43m_assert_all_finite_element_wise\u001b[49m\u001b[43m(\u001b[49m\n\u001b[0;32m    127\u001b[0m \u001b[43m    \u001b[49m\u001b[43mX\u001b[49m\u001b[43m,\u001b[49m\n\u001b[0;32m    128\u001b[0m \u001b[43m    \u001b[49m\u001b[43mxp\u001b[49m\u001b[38;5;241;43m=\u001b[39;49m\u001b[43mxp\u001b[49m\u001b[43m,\u001b[49m\n\u001b[0;32m    129\u001b[0m \u001b[43m    \u001b[49m\u001b[43mallow_nan\u001b[49m\u001b[38;5;241;43m=\u001b[39;49m\u001b[43mallow_nan\u001b[49m\u001b[43m,\u001b[49m\n\u001b[0;32m    130\u001b[0m \u001b[43m    \u001b[49m\u001b[43mmsg_dtype\u001b[49m\u001b[38;5;241;43m=\u001b[39;49m\u001b[43mmsg_dtype\u001b[49m\u001b[43m,\u001b[49m\n\u001b[0;32m    131\u001b[0m \u001b[43m    \u001b[49m\u001b[43mestimator_name\u001b[49m\u001b[38;5;241;43m=\u001b[39;49m\u001b[43mestimator_name\u001b[49m\u001b[43m,\u001b[49m\n\u001b[0;32m    132\u001b[0m \u001b[43m    \u001b[49m\u001b[43minput_name\u001b[49m\u001b[38;5;241;43m=\u001b[39;49m\u001b[43minput_name\u001b[49m\u001b[43m,\u001b[49m\n\u001b[0;32m    133\u001b[0m \u001b[43m\u001b[49m\u001b[43m)\u001b[49m\n",
      "File \u001b[1;32mC:\\ProgramData\\anaconda3\\Lib\\site-packages\\sklearn\\utils\\validation.py:175\u001b[0m, in \u001b[0;36m_assert_all_finite_element_wise\u001b[1;34m(X, xp, allow_nan, msg_dtype, estimator_name, input_name)\u001b[0m\n\u001b[0;32m    158\u001b[0m \u001b[38;5;28;01mif\u001b[39;00m estimator_name \u001b[38;5;129;01mand\u001b[39;00m input_name \u001b[38;5;241m==\u001b[39m \u001b[38;5;124m\"\u001b[39m\u001b[38;5;124mX\u001b[39m\u001b[38;5;124m\"\u001b[39m \u001b[38;5;129;01mand\u001b[39;00m has_nan_error:\n\u001b[0;32m    159\u001b[0m     \u001b[38;5;66;03m# Improve the error message on how to handle missing values in\u001b[39;00m\n\u001b[0;32m    160\u001b[0m     \u001b[38;5;66;03m# scikit-learn.\u001b[39;00m\n\u001b[0;32m    161\u001b[0m     msg_err \u001b[38;5;241m+\u001b[39m\u001b[38;5;241m=\u001b[39m (\n\u001b[0;32m    162\u001b[0m         \u001b[38;5;124mf\u001b[39m\u001b[38;5;124m\"\u001b[39m\u001b[38;5;130;01m\\n\u001b[39;00m\u001b[38;5;132;01m{\u001b[39;00mestimator_name\u001b[38;5;132;01m}\u001b[39;00m\u001b[38;5;124m does not accept missing values\u001b[39m\u001b[38;5;124m\"\u001b[39m\n\u001b[0;32m    163\u001b[0m         \u001b[38;5;124m\"\u001b[39m\u001b[38;5;124m encoded as NaN natively. For supervised learning, you might want\u001b[39m\u001b[38;5;124m\"\u001b[39m\n\u001b[1;32m   (...)\u001b[0m\n\u001b[0;32m    173\u001b[0m         \u001b[38;5;124m\"\u001b[39m\u001b[38;5;124m#estimators-that-handle-nan-values\u001b[39m\u001b[38;5;124m\"\u001b[39m\n\u001b[0;32m    174\u001b[0m     )\n\u001b[1;32m--> 175\u001b[0m \u001b[38;5;28;01mraise\u001b[39;00m \u001b[38;5;167;01mValueError\u001b[39;00m(msg_err)\n",
      "\u001b[1;31mValueError\u001b[0m: Input X contains NaN.\nSVC does not accept missing values encoded as NaN natively. For supervised learning, you might want to consider sklearn.ensemble.HistGradientBoostingClassifier and Regressor which accept missing values encoded as NaNs natively. Alternatively, it is possible to preprocess the data, for instance by using an imputer transformer in a pipeline or drop samples with missing values. See https://scikit-learn.org/stable/modules/impute.html You can find a list of all estimators that handle NaN values at the following page: https://scikit-learn.org/stable/modules/impute.html#estimators-that-handle-nan-values"
     ]
    }
   ],
   "source": [
    "y_pred = svm_model.predict(X_test)"
   ]
  },
  {
   "cell_type": "code",
   "execution_count": 79,
   "id": "a9861046-6488-4bfe-b7ad-e25b78c2e8e1",
   "metadata": {},
   "outputs": [
    {
     "ename": "NameError",
     "evalue": "name 'y_pred' is not defined",
     "output_type": "error",
     "traceback": [
      "\u001b[1;31m---------------------------------------------------------------------------\u001b[0m",
      "\u001b[1;31mNameError\u001b[0m                                 Traceback (most recent call last)",
      "Cell \u001b[1;32mIn[79], line 1\u001b[0m\n\u001b[1;32m----> 1\u001b[0m accuracy \u001b[38;5;241m=\u001b[39m accuracy_score(Y_test, \u001b[43my_pred\u001b[49m)\n\u001b[0;32m      2\u001b[0m \u001b[38;5;28mprint\u001b[39m(\u001b[38;5;124mf\u001b[39m\u001b[38;5;124m\"\u001b[39m\u001b[38;5;130;01m\\n\u001b[39;00m\u001b[38;5;124mAccuracy of SVM Classifier: \u001b[39m\u001b[38;5;132;01m{\u001b[39;00maccuracy\u001b[38;5;132;01m}\u001b[39;00m\u001b[38;5;124m\"\u001b[39m)\n\u001b[0;32m      3\u001b[0m \u001b[38;5;28mprint\u001b[39m(\u001b[38;5;124m\"\u001b[39m\u001b[38;5;130;01m\\n\u001b[39;00m\u001b[38;5;124mClassification Report:\u001b[39m\u001b[38;5;124m\"\u001b[39m)\n",
      "\u001b[1;31mNameError\u001b[0m: name 'y_pred' is not defined"
     ]
    }
   ],
   "source": [
    "accuracy = accuracy_score(Y_test, y_pred)\n",
    "print(f\"\\nAccuracy of SVM Classifier: {accuracy}\")\n",
    "print(\"\\nClassification Report:\")\n",
    "print(classification_report(Y_test, y_pred))\n"
   ]
  },
  {
   "cell_type": "code",
   "execution_count": null,
   "id": "4aa847ae-aaa2-4257-afcb-8769b84c0875",
   "metadata": {},
   "outputs": [],
   "source": []
  },
  {
   "cell_type": "code",
   "execution_count": null,
   "id": "7858bdd2-3f99-442a-bdd8-e92bda87765c",
   "metadata": {},
   "outputs": [],
   "source": []
  },
  {
   "cell_type": "code",
   "execution_count": null,
   "id": "ac7b8631-3a23-4dc1-abb7-8159970fad0f",
   "metadata": {},
   "outputs": [],
   "source": []
  },
  {
   "cell_type": "code",
   "execution_count": null,
   "id": "8b5121c9-23fc-4f89-be9d-9d28e26edc03",
   "metadata": {},
   "outputs": [],
   "source": []
  },
  {
   "cell_type": "code",
   "execution_count": null,
   "id": "5a980d81-d6f8-4273-b780-1f3ad7890b81",
   "metadata": {},
   "outputs": [],
   "source": []
  }
 ],
 "metadata": {
  "kernelspec": {
   "display_name": "Python 3 (ipykernel)",
   "language": "python",
   "name": "python3"
  },
  "language_info": {
   "codemirror_mode": {
    "name": "ipython",
    "version": 3
   },
   "file_extension": ".py",
   "mimetype": "text/x-python",
   "name": "python",
   "nbconvert_exporter": "python",
   "pygments_lexer": "ipython3",
   "version": "3.12.4"
  }
 },
 "nbformat": 4,
 "nbformat_minor": 5
}
